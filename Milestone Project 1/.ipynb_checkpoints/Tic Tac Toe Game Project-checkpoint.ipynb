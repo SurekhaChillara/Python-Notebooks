{
 "cells": [
  {
   "cell_type": "markdown",
   "metadata": {},
   "source": [
    "Create an Tic Tac Toe Game Project  for 2 Players "
   ]
  },
  {
   "cell_type": "markdown",
   "metadata": {},
   "source": [
    "We will use the 'Numpad' to match the numbers to the grid on a tic tac toe board:\n",
    "\n",
    "             --|------|------|------\n",
    "             \n",
    "             --|------|------|------\n",
    "             \n",
    "             --|------|------|------"
   ]
  },
  {
   "cell_type": "code",
   "execution_count": 1,
   "metadata": {},
   "outputs": [],
   "source": [
    "from IPython.display import clear_output\n",
    "\n",
    "def display_board(board):\n",
    "    \n",
    "    print(board[7]+'|'+board[8]+'|'+board[9])\n",
    "    print(board[4]+'|'+board[5]+'|'+board[6])\n",
    "    print(board[1]+'|'+board[2]+'|'+board[3])\n",
    "    "
   ]
  },
  {
   "cell_type": "markdown",
   "metadata": {},
   "source": [
    "Below function is a test version of board list  and ake adjustments as necessary"
   ]
  },
  {
   "cell_type": "code",
   "execution_count": 2,
   "metadata": {},
   "outputs": [
    {
     "name": "stdout",
     "output_type": "stream",
     "text": [
      "X|O|X\n",
      "O|X|O\n",
      "X|O|X\n"
     ]
    }
   ],
   "source": [
    "test_board = ['#','X','O','X','O','X','O','X','O','X']\n",
    "display_board(test_board)"
   ]
  },
  {
   "cell_type": "code",
   "execution_count": 3,
   "metadata": {},
   "outputs": [],
   "source": [
    "def player_input():\n",
    "    '''\n",
    "    OUTPUT= (Player 1 marker , Player 2 marker)\n",
    "    '''\n",
    "    \n",
    "    marker=''\n",
    "    \n",
    "    while not (marker == 'X' or marker =='O'):\n",
    "        marker= input('Player1: Choose X or O : ').upper()\n",
    "        \n",
    "    if marker == 'X':\n",
    "        \n",
    "        return('X','O')\n",
    "    else: \n",
    "        return('O','X')"
   ]
  },
  {
   "cell_type": "markdown",
   "metadata": {},
   "source": [
    "run the below function to make sure it returns the desires output"
   ]
  },
  {
   "cell_type": "code",
   "execution_count": 4,
   "metadata": {},
   "outputs": [
    {
     "name": "stdout",
     "output_type": "stream",
     "text": [
      "Player1: Choose X or O : o\n"
     ]
    }
   ],
   "source": [
    "player1_marker, player2_marker = player_input()"
   ]
  },
  {
   "cell_type": "code",
   "execution_count": 5,
   "metadata": {},
   "outputs": [
    {
     "data": {
      "text/plain": [
       "'O'"
      ]
     },
     "execution_count": 5,
     "metadata": {},
     "output_type": "execute_result"
    }
   ],
   "source": [
    "player1_marker"
   ]
  },
  {
   "cell_type": "code",
   "execution_count": 6,
   "metadata": {},
   "outputs": [
    {
     "data": {
      "text/plain": [
       "'X'"
      ]
     },
     "execution_count": 6,
     "metadata": {},
     "output_type": "execute_result"
    }
   ],
   "source": [
    "player2_marker"
   ]
  },
  {
   "cell_type": "code",
   "execution_count": 7,
   "metadata": {},
   "outputs": [
    {
     "name": "stdout",
     "output_type": "stream",
     "text": [
      "Player1: Choose X or O : x\n"
     ]
    }
   ],
   "source": [
    "player1_marker, player2_marker = player_input()"
   ]
  },
  {
   "cell_type": "code",
   "execution_count": 8,
   "metadata": {},
   "outputs": [
    {
     "data": {
      "text/plain": [
       "'X'"
      ]
     },
     "execution_count": 8,
     "metadata": {},
     "output_type": "execute_result"
    }
   ],
   "source": [
    "player1_marker"
   ]
  },
  {
   "cell_type": "code",
   "execution_count": 9,
   "metadata": {},
   "outputs": [
    {
     "data": {
      "text/plain": [
       "'O'"
      ]
     },
     "execution_count": 9,
     "metadata": {},
     "output_type": "execute_result"
    }
   ],
   "source": [
    "player2_marker"
   ]
  },
  {
   "cell_type": "markdown",
   "metadata": {},
   "source": [
    "3. write a function that takes in the board list object , a marker('X' or 'O') and a desired position number (1-9) and assigns it to the board"
   ]
  },
  {
   "cell_type": "code",
   "execution_count": 10,
   "metadata": {},
   "outputs": [],
   "source": [
    "def place_marker(board,marker, position):\n",
    "    board[position] = marker"
   ]
  },
  {
   "cell_type": "markdown",
   "metadata": {},
   "source": [
    "Run the Place marker function using the test parameters and display the midified board"
   ]
  },
  {
   "cell_type": "code",
   "execution_count": 11,
   "metadata": {},
   "outputs": [
    {
     "data": {
      "text/plain": [
       "['#', 'X', 'O', 'X', 'O', 'X', 'O', 'X', 'O', 'X']"
      ]
     },
     "execution_count": 11,
     "metadata": {},
     "output_type": "execute_result"
    }
   ],
   "source": [
    "test_board"
   ]
  },
  {
   "cell_type": "code",
   "execution_count": 12,
   "metadata": {},
   "outputs": [
    {
     "name": "stdout",
     "output_type": "stream",
     "text": [
      "X|$|X\n",
      "O|X|O\n",
      "X|O|X\n"
     ]
    }
   ],
   "source": [
    "place_marker(test_board,'$',8)\n",
    "display_board(test_board)"
   ]
  },
  {
   "cell_type": "markdown",
   "metadata": {},
   "source": [
    "Write a function that takes in the board list and a mark(X or O) and then checks to see if that mark has won:"
   ]
  },
  {
   "cell_type": "code",
   "execution_count": 14,
   "metadata": {},
   "outputs": [],
   "source": [
    "def win_check(board,mark):\n",
    "    \n",
    "    #Win Tic Tac Toe conditions below::?    \n",
    "    \n",
    "       return ((board[1] == mark and board[2] == mark and board[3]==mark) or # Across Rows\n",
    "    (board[4] == mark and board[5] == mark and board[6]==mark) or # Across Rows\n",
    "    (board[7] == mark and board[8] == mark and board[9]==mark)  # Across Rows\n",
    "            or \n",
    "    (board[1] == mark and board[4] == mark and board[7]==mark) or #Columns  \n",
    "    (board[2] == mark and board[5] == mark and board[8]==mark) or #Columns\n",
    "    (board[3] == mark and board[6] == mark and board[9]==mark)  #Columns\n",
    "            or \n",
    "    #2 diagnols, check to see match\n",
    "    (board[1] == board[5] == board[9] == mark) or #Diagonal\n",
    "    (board[3] == board[5] == board[7] == mark) #Diagonal\n",
    "              )  \n",
    "    "
   ]
  },
  {
   "cell_type": "code",
   "execution_count": 19,
   "metadata": {},
   "outputs": [
    {
     "name": "stdout",
     "output_type": "stream",
     "text": [
      "X|$|X\n",
      "O|X|O\n",
      "X|O|X\n"
     ]
    }
   ],
   "source": [
    "display_board(test_board)"
   ]
  },
  {
   "cell_type": "code",
   "execution_count": 20,
   "metadata": {},
   "outputs": [
    {
     "data": {
      "text/plain": [
       "True"
      ]
     },
     "execution_count": 20,
     "metadata": {},
     "output_type": "execute_result"
    }
   ],
   "source": [
    "win_check(test_board,'X')"
   ]
  },
  {
   "cell_type": "markdown",
   "metadata": {},
   "source": [
    "4.write a function to use the random module to randomly decide which player goes first. You may want to loopup random.randint() Return a string of which player went first"
   ]
  },
  {
   "cell_type": "code",
   "execution_count": 21,
   "metadata": {},
   "outputs": [],
   "source": [
    "import random\n",
    "\n",
    "def choose_first():\n",
    "    \n",
    "    flip = random.randint(0,1)\n",
    "    \n",
    "    if flip ==0:\n",
    "        return 'Player 1'\n",
    "    else:\n",
    "        return 'Player 2'"
   ]
  },
  {
   "cell_type": "raw",
   "metadata": {},
   "source": [
    "5 write a function that returns a boolean indicating whether a space on the board is free?"
   ]
  },
  {
   "cell_type": "code",
   "execution_count": 22,
   "metadata": {},
   "outputs": [],
   "source": [
    "def space_check(board,position):\n",
    "    return board[position] == ' '\n",
    "    "
   ]
  },
  {
   "cell_type": "markdown",
   "metadata": {},
   "source": [
    "6 write a function that checks if the board is full and returns a boolean value True if Full"
   ]
  },
  {
   "cell_type": "code",
   "execution_count": 26,
   "metadata": {},
   "outputs": [],
   "source": [
    "def full_board_check(board):\n",
    "    \n",
    "    for i in range(1,10):\n",
    "        if space_check(board,i):\n",
    "            return False\n",
    "    #Board is full\n",
    "    return True"
   ]
  },
  {
   "cell_type": "raw",
   "metadata": {},
   "source": [
    "7 Player Choice"
   ]
  },
  {
   "cell_type": "code",
   "execution_count": 27,
   "metadata": {},
   "outputs": [],
   "source": [
    "def player_choice(board):\n",
    "    \n",
    "    position =0\n",
    "    \n",
    "    while position not in [ 1,2,3,4,5,6,7,8,9] or not space_check(board,position):\n",
    "        position = int(input('Choose a position: (1-9) '))\n",
    "    return position"
   ]
  },
  {
   "cell_type": "markdown",
   "metadata": {},
   "source": [
    "8 Replay : Users asks to replay "
   ]
  },
  {
   "cell_type": "code",
   "execution_count": 28,
   "metadata": {},
   "outputs": [],
   "source": [
    "def replay():\n",
    "    choice = input(\"Play again? Enter Yes or No\" )\n",
    "    return choice=='Yes'    "
   ]
  },
  {
   "cell_type": "markdown",
   "metadata": {},
   "source": [
    "9.Use while loops and functions you've made to run the game"
   ]
  },
  {
   "cell_type": "code",
   "execution_count": null,
   "metadata": {},
   "outputs": [
    {
     "name": "stdout",
     "output_type": "stream",
     "text": [
      "Welcome to Tic Tac Toe!!!\n",
      "Player1: Choose X or O : X\n",
      "Player 2 will go first\n",
      "Ready to Play?? y or n? y\n",
      "Player1: Choose X or O : x\n",
      "Player 1 will go first\n",
      "Ready to Play?? y or n? Y\n",
      "Player1: Choose X or O : o\n",
      "Player 1 will go first\n",
      "Ready to Play?? y or n? y\n",
      "Player1: Choose X or O : o\n",
      "Player 1 will go first\n",
      "Ready to Play?? y or n? n\n"
     ]
    }
   ],
   "source": [
    "# While loop to keep running the game\n",
    "print('Welcome to Tic Tac Toe!!!')\n",
    "\n",
    "while True:\n",
    "    # Play the game\n",
    "\n",
    "    # set everything up(Board, Whose first , choose Markers X,O)\n",
    "    the_board = [''] * 10\n",
    "    player1_marker, player2_marker = player_input()\n",
    "\n",
    "    turn = choose_first()\n",
    "    print(turn + ' will go first')\n",
    "\n",
    "    play_game = input('Ready to Play?? y or n? ')\n",
    "\n",
    "    if play_game == 'y':\n",
    "        game_on = True\n",
    "    else:\n",
    "        game_on = False\n",
    "\n",
    "    # Game Play\n",
    "while game_on:\n",
    "\n",
    "    if turn == 'Player 1':\n",
    "\n",
    "        # show the board\n",
    "        display_board(the_board)\n",
    "        # choose a position\n",
    "        position = player_choice(the_board)\n",
    "        # place the marker on the position\n",
    "        place_marker(the_board, player1_marker, position)\n",
    "        ##check if they won\n",
    "        if win_check(the_board, player1_marker):\n",
    "            display_board(the_board)\n",
    "            print('Player1 has Won!!')\n",
    "            game_on = False\n",
    "        else:\n",
    "            if full_board_check(the_board):\n",
    "                display_board(the_board)\n",
    "                print('Tie Game!!')\n",
    "                game_on = False\n",
    "            else:\n",
    "                turn = 'Player 2'\n",
    "        # or check for tie\n",
    "\n",
    "        # No tie or No win ? Then Player 2 turn\n",
    "        ## Player 1 turn\n",
    "\n",
    "    else:\n",
    "        ##Player 2 Turn\n",
    "        if turn == 'Player 2':\n",
    "\n",
    "            # show the board\n",
    "            display_board(the_board)\n",
    "            \n",
    "            # choose a position\n",
    "            position = player_choice(the_board)\n",
    "            \n",
    "            # place the marker on the position\n",
    "            place_marker(the_board, player1_marker, position)\n",
    "            \n",
    "            ##check if they won            \n",
    "            if win_check(the_board, player1_marker):\n",
    "                display_board(the_board)\n",
    "                print('Player2 has Won!!')\n",
    "                game_on = False\n",
    "            else:\n",
    "                if full_board_check(the_board):\n",
    "                    display_board(the_board)\n",
    "                    print('Tie Game!!')\n",
    "                    game_on = False\n",
    "                else:\n",
    "                    turn = 'Player 1'\n",
    "    # Break out of while loop on Replay()\n",
    "    if not replay():\n",
    "        break\n"
   ]
  },
  {
   "cell_type": "code",
   "execution_count": null,
   "metadata": {},
   "outputs": [],
   "source": []
  }
 ],
 "metadata": {
  "kernelspec": {
   "display_name": "Python 3",
   "language": "python",
   "name": "python3"
  },
  "language_info": {
   "codemirror_mode": {
    "name": "ipython",
    "version": 3
   },
   "file_extension": ".py",
   "mimetype": "text/x-python",
   "name": "python",
   "nbconvert_exporter": "python",
   "pygments_lexer": "ipython3",
   "version": "3.7.4"
  }
 },
 "nbformat": 4,
 "nbformat_minor": 2
}
